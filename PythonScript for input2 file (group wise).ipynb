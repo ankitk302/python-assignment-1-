{
 "cells": [
  {
   "cell_type": "code",
   "execution_count": 9,
   "metadata": {},
   "outputs": [
    {
     "name": "stdout",
     "output_type": "stream",
     "text": [
      "                         User ID  total_statements  total_reasons\n",
      "Team Name                                                        \n",
      "Winning Culture Lab   493.000000         12.666667      16.000000\n",
      "Tech Lab              157.666667          9.000000      10.000000\n",
      "Mentor                277.333333          7.333333       7.666667\n",
      "Student Unicorn Lab  3314.000000          7.333333       6.333333\n",
      "BrandTech Lab         342.000000          7.000000       7.000000\n",
      "Growpital             302.333333          5.000000       5.666667\n",
      "Kringle              1884.000000          4.500000       4.500000\n",
      "Brandtech Lab         336.000000          2.000000       4.000000\n",
      "Human Capital Lab     383.500000          2.000000       4.500000\n"
     ]
    }
   ],
   "source": [
    "import pandas as pd\n",
    "# importing data into data frame\n",
    "df=pd.read_csv('F:/python assignment 1/input2.csv')\n",
    "\n",
    "df['total_statements'] =[13,13,12,13,2,2,3,9,7,8,16,2,6,3,2,11,6,5,4,2,7]\n",
    "df['total_reasons'] = [21,16,11,12,2,7,3,9,7,8,19,4,8,3,2,8,7,5,5,2,7]\n",
    "grouped_df = df.groupby(['Team Name']).mean([['total_statements', 'total_reasons']])\n",
    "df1 = grouped_df.sort_values(by=['total_statements', ], ascending=[False])\n",
    "df1 = df1.drop('S No', axis=1)\n",
    "print(df1)\n",
    "df1.to_csv('input2_sorted.csv',index=True)"
   ]
  }
 ],
 "metadata": {
  "kernelspec": {
   "display_name": "Python 3",
   "language": "python",
   "name": "python3"
  },
  "language_info": {
   "codemirror_mode": {
    "name": "ipython",
    "version": 3
   },
   "file_extension": ".py",
   "mimetype": "text/x-python",
   "name": "python",
   "nbconvert_exporter": "python",
   "pygments_lexer": "ipython3",
   "version": "3.11.3"
  },
  "orig_nbformat": 4
 },
 "nbformat": 4,
 "nbformat_minor": 2
}
