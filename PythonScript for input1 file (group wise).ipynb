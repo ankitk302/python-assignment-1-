{
 "cells": [
  {
   "cell_type": "code",
   "execution_count": 44,
   "metadata": {},
   "outputs": [
    {
     "name": "stdout",
     "output_type": "stream",
     "text": [
      "             name   uid  total_statements  total_reasons\n",
      "10        Ronak 0   302                16             19\n",
      "0       Soumita M   280                13             21\n",
      "1      Subhangi 0    75                13             16\n",
      "3          Merwin   295                13             12\n",
      "2     Nitin Shane  1124                12             11\n",
      "15         Ayisha  3406                11              8\n",
      "7        imshawan    71                 9              9\n",
      "9         sharath  3367                 8              8\n",
      "8    Anuraj_Saini   342                 7              7\n",
      "20       devmenkr   360                 7              7\n",
      "12        Saurabh   271                 6              8\n",
      "16         Palash    69                 6              7\n",
      "17          raman   539                 5              5\n",
      "18        Nishant   299                 4              5\n",
      "6     Rohit Dutta   266                 3              3\n",
      "13    darshimalde  3169                 3              3\n",
      "5   __riddhi_213_   504                 2              7\n",
      "11  Amrit Malviya   336                 2              4\n",
      "4   fardinkamal62   263                 2              2\n",
      "14         Shagun   100                 2              2\n",
      "19         Vatsal  3408                 2              2\n"
     ]
    }
   ],
   "source": [
    "import pandas as pd\n",
    "# importing data into data frame\n",
    "df=pd.read_csv('F:/django/input1.csv')\n",
    "df_sorted = df.sort_values(by=['total_statements', 'total_reasons'], ascending=[False, False])\n",
    "df_new = df_sorted.drop('S No', axis=1)\n",
    "# Display the sorted DataFrame\n",
    "print(df_new)\n",
    "df_new.to_csv('input1_sorted.csv', index= False )"
   ]
  }
 ],
 "metadata": {
  "language_info": {
   "name": "python"
  },
  "orig_nbformat": 4
 },
 "nbformat": 4,
 "nbformat_minor": 2
}
